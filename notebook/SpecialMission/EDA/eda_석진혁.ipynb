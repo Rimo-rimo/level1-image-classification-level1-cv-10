{
 "cells": [
  {
   "cell_type": "code",
   "execution_count": 28,
   "id": "47edbdf4-a5cf-47b2-be70-12b426fc6118",
   "metadata": {},
   "outputs": [],
   "source": [
    "import numpy as np\n",
    "import pandas as pd\n",
    "import os\n",
    "import matplotlib.pyplot as plt\n",
    "import seaborn as sns\n",
    "import cv2"
   ]
  },
  {
   "cell_type": "code",
   "execution_count": 29,
   "id": "13ff9c30-33ae-4efc-943a-038b16098935",
   "metadata": {},
   "outputs": [
    {
     "data": {
      "text/html": [
       "<div>\n",
       "<style scoped>\n",
       "    .dataframe tbody tr th:only-of-type {\n",
       "        vertical-align: middle;\n",
       "    }\n",
       "\n",
       "    .dataframe tbody tr th {\n",
       "        vertical-align: top;\n",
       "    }\n",
       "\n",
       "    .dataframe thead th {\n",
       "        text-align: right;\n",
       "    }\n",
       "</style>\n",
       "<table border=\"1\" class=\"dataframe\">\n",
       "  <thead>\n",
       "    <tr style=\"text-align: right;\">\n",
       "      <th></th>\n",
       "      <th>Unnamed: 0</th>\n",
       "      <th>img_path</th>\n",
       "      <th>label</th>\n",
       "      <th>state</th>\n",
       "      <th>gender</th>\n",
       "      <th>age</th>\n",
       "      <th>age_group</th>\n",
       "    </tr>\n",
       "  </thead>\n",
       "  <tbody>\n",
       "    <tr>\n",
       "      <th>18895</th>\n",
       "      <td>18895</td>\n",
       "      <td>./train/images/006959_male_Asian_19/mask2.jpg</td>\n",
       "      <td>0</td>\n",
       "      <td>mask</td>\n",
       "      <td>male</td>\n",
       "      <td>19</td>\n",
       "      <td>A</td>\n",
       "    </tr>\n",
       "    <tr>\n",
       "      <th>18896</th>\n",
       "      <td>18896</td>\n",
       "      <td>./train/images/006959_male_Asian_19/mask3.jpg</td>\n",
       "      <td>0</td>\n",
       "      <td>mask</td>\n",
       "      <td>male</td>\n",
       "      <td>19</td>\n",
       "      <td>A</td>\n",
       "    </tr>\n",
       "    <tr>\n",
       "      <th>18897</th>\n",
       "      <td>18897</td>\n",
       "      <td>./train/images/006959_male_Asian_19/mask4.jpg</td>\n",
       "      <td>0</td>\n",
       "      <td>mask</td>\n",
       "      <td>male</td>\n",
       "      <td>19</td>\n",
       "      <td>A</td>\n",
       "    </tr>\n",
       "    <tr>\n",
       "      <th>18898</th>\n",
       "      <td>18898</td>\n",
       "      <td>./train/images/006959_male_Asian_19/mask5.jpg</td>\n",
       "      <td>0</td>\n",
       "      <td>mask</td>\n",
       "      <td>male</td>\n",
       "      <td>19</td>\n",
       "      <td>A</td>\n",
       "    </tr>\n",
       "    <tr>\n",
       "      <th>18899</th>\n",
       "      <td>18899</td>\n",
       "      <td>./train/images/006959_male_Asian_19/normal.jpg</td>\n",
       "      <td>12</td>\n",
       "      <td>normal</td>\n",
       "      <td>male</td>\n",
       "      <td>19</td>\n",
       "      <td>A</td>\n",
       "    </tr>\n",
       "  </tbody>\n",
       "</table>\n",
       "</div>"
      ],
      "text/plain": [
       "       Unnamed: 0                                        img_path  label  \\\n",
       "18895       18895   ./train/images/006959_male_Asian_19/mask2.jpg      0   \n",
       "18896       18896   ./train/images/006959_male_Asian_19/mask3.jpg      0   \n",
       "18897       18897   ./train/images/006959_male_Asian_19/mask4.jpg      0   \n",
       "18898       18898   ./train/images/006959_male_Asian_19/mask5.jpg      0   \n",
       "18899       18899  ./train/images/006959_male_Asian_19/normal.jpg     12   \n",
       "\n",
       "        state gender  age age_group  \n",
       "18895    mask   male   19         A  \n",
       "18896    mask   male   19         A  \n",
       "18897    mask   male   19         A  \n",
       "18898    mask   male   19         A  \n",
       "18899  normal   male   19         A  "
      ]
     },
     "execution_count": 29,
     "metadata": {},
     "output_type": "execute_result"
    }
   ],
   "source": [
    "labeling = pd.read_csv('../input/data/train/labeling_ver2.csv')\n",
    "\n",
    "labeling_label = labeling['label'].value_counts()\n",
    "\n",
    "age_groups = []\n",
    "for i in range(len(labeling)):\n",
    "    if labeling['age'].iloc[i] < 30:\n",
    "        age = 'A'\n",
    "    elif 30<=labeling['age'].iloc[i] < 60:\n",
    "        age = 'B'\n",
    "    else:\n",
    "        age = 'C'\n",
    "    age_groups.append(age)\n",
    "age_groups = {'age_group' : age_groups}\n",
    "labeling['age_group'] = pd.DataFrame(age_groups)\n",
    "labeling.tail()"
   ]
  },
  {
   "cell_type": "markdown",
   "id": "8a61bde8-9573-4f85-a819-aa798d33b1c8",
   "metadata": {},
   "source": [
    "1. label의 분포"
   ]
  },
  {
   "cell_type": "code",
   "execution_count": 30,
   "id": "899523b1-51aa-4142-99dd-8ef0b2e0d1c2",
   "metadata": {},
   "outputs": [
    {
     "data": {
      "text/plain": [
       "<matplotlib.axes._subplots.AxesSubplot at 0x7fa804dcbac0>"
      ]
     },
     "execution_count": 30,
     "metadata": {},
     "output_type": "execute_result"
    },
    {
     "data": {
      "image/png": "[encoded data removed]",
      "text/plain": [
       "<Figure size 1296x432 with 3 Axes>"
      ]
     },
     "metadata": {
      "needs_background": "light"
     },
     "output_type": "display_data"
    }
   ],
   "source": [
    "fig, axes = plt.subplots(1,3,figsize = (18,6))\n",
    "sns.countplot(x = 'label', data = labeling, hue = 'state', ax = axes[0])\n",
    "sns.countplot(x = 'label', data = labeling, hue = 'gender', ax = axes[1])\n",
    "sns.countplot(x = 'label', data = labeling, hue = 'age_group', ax = axes[2])"
   ]
  },
  {
   "cell_type": "markdown",
   "id": "14111404-28c7-420b-a310-2256ec95953d",
   "metadata": {},
   "source": [
    "1 - (1) label 값의 독립적 분포"
   ]
  },
  {
   "cell_type": "code",
   "execution_count": 31,
   "id": "258200a0-469f-4e53-9302-cd78de6be228",
   "metadata": {},
   "outputs": [
    {
     "data": {
      "text/plain": [
       "<matplotlib.axes._subplots.AxesSubplot at 0x7fa7ccbafa30>"
      ]
     },
     "execution_count": 31,
     "metadata": {},
     "output_type": "execute_result"
    },
    {
     "data": {
      "image/png": "[encoded data removed]",
      "text/plain": [
       "<Figure size 432x288 with 1 Axes>"
      ]
     },
     "metadata": {
      "needs_background": "light"
     },
     "output_type": "display_data"
    }
   ],
   "source": [
    "# gender\n",
    "sns.countplot(x = 'gender', data = labeling)"
   ]
  },
  {
   "cell_type": "code",
   "execution_count": 32,
   "id": "a6de7dcc-c358-4523-bc7c-7bd336e97ad2",
   "metadata": {},
   "outputs": [
    {
     "data": {
      "text/plain": [
       "<matplotlib.axes._subplots.AxesSubplot at 0x7fa7cc4f6700>"
      ]
     },
     "execution_count": 32,
     "metadata": {},
     "output_type": "execute_result"
    },
    {
     "data": {
      "image/png": "[encoded data removed]",
      "text/plain": [
       "<Figure size 1296x360 with 3 Axes>"
      ]
     },
     "metadata": {
      "needs_background": "light"
     },
     "output_type": "display_data"
    }
   ],
   "source": [
    "# age\n",
    "fig, axes = plt.subplots(1,3,figsize = (18,5))\n",
    "\n",
    "sns.countplot(x = 'age', data = labeling, ax = axes[0])\n",
    "sns.countplot(x = 'age', data = labeling[labeling['age'] > 50], ax = axes[1])\n",
    "sns.countplot(x = 'age_group', data = labeling, ax = axes[2]) "
   ]
  },
  {
   "cell_type": "markdown",
   "id": "bab75fc4-1e95-40bc-90be-1ab099f33565",
   "metadata": {},
   "source": [
    "1 - (2) label들 간의 관계 분포"
   ]
  },
  {
   "cell_type": "code",
   "execution_count": 33,
   "id": "d8c2bd26-1299-4bf1-8fa8-38a9d8359393",
   "metadata": {},
   "outputs": [
    {
     "data": {
      "text/plain": [
       "<matplotlib.axes._subplots.AxesSubplot at 0x7fa81de278e0>"
      ]
     },
     "execution_count": 33,
     "metadata": {},
     "output_type": "execute_result"
    },
    {
     "data": {
      "image/png": "[encoded data removed]",
      "text/plain": [
       "<Figure size 864x360 with 2 Axes>"
      ]
     },
     "metadata": {
      "needs_background": "light"
     },
     "output_type": "display_data"
    }
   ],
   "source": [
    "fig, axes = plt.subplots(1, 2, figsize=(12, 5))\n",
    "\n",
    "sns.countplot(x='age_group',data=labeling, order = ['A','B','C'],\n",
    "              hue='gender', \n",
    "              ax=axes[0]\n",
    "             )\n",
    "\n",
    "sns.countplot(x='gender',data=labeling,\n",
    "              hue='age_group',\n",
    "              hue_order = sorted(labeling['age_group'].unique()),\n",
    "              ax=axes[1]\n",
    "             )"
   ]
  },
  {
   "cell_type": "code",
   "execution_count": 34,
   "id": "ca34c8ba-0a64-4edd-b839-67afdc423657",
   "metadata": {},
   "outputs": [
    {
     "data": {
      "image/png": "[encoded data removed]",
      "text/plain": [
       "<Figure size 504x432 with 2 Axes>"
      ]
     },
     "metadata": {
      "needs_background": "light"
     },
     "output_type": "display_data"
    }
   ],
   "source": [
    "fig,ax = plt.subplots(1,1,figsize = (7,6))\n",
    "\n",
    "change_dict = {'female':0, 'male':1}\n",
    "labeling2 = labeling.replace({'gender' : change_dict})\n",
    "sns.heatmap(labeling2[['age', 'gender']].corr(), ax=ax,\n",
    "            vmin = -1, vmax = 1, center = 0)\n",
    "plt.show() ## 특정 성별에 더 많은 age를 두거나 하지는 않았음! 독립적인듯.."
   ]
  },
  {
   "cell_type": "markdown",
   "id": "4207ab53-f8ff-42ce-9630-c6afd00408e9",
   "metadata": {},
   "source": [
    "2. Input X에 대한 분석"
   ]
  },
  {
   "cell_type": "markdown",
   "id": "540efec6-5803-4fd5-a5c3-910dcc8f59cf",
   "metadata": {},
   "source": [
    "2 - 1) image size"
   ]
  },
  {
   "cell_type": "code",
   "execution_count": 35,
   "id": "26d8ca1a-4a37-4aad-818d-316b12f9fddd",
   "metadata": {},
   "outputs": [
    {
     "name": "stdout",
     "output_type": "stream",
     "text": [
      "[########################################] | 100% Completed |  9.6s\n"
     ]
    }
   ],
   "source": [
    "from dask import bag, diagnostics\n",
    "from PIL import Image\n",
    "\n",
    "def get_dims(file):\n",
    "    img = cv2.imread(file)\n",
    "    h,w = img.shape[:2]\n",
    "    return h, w\n",
    "\n",
    "image_names = []\n",
    "\n",
    "for i in range(len(labeling)):\n",
    "    file = labeling['img_path'].iloc[i]\n",
    "    file = os.path.join('../input/data/',file[2:])\n",
    "    image_names.append(file)\n",
    "\n",
    "dimsbag = bag.from_sequence(image_names).map(get_dims)\n",
    "with diagnostics.ProgressBar():\n",
    "    dims = dimsbag.compute()\n",
    "dim_df = pd.DataFrame(dims, columns=['height', 'width'])"
   ]
  },
  {
   "cell_type": "code",
   "execution_count": 36,
   "id": "4400fc5f-a05a-4402-b802-5ab51ce09115",
   "metadata": {},
   "outputs": [
    {
     "data": {
      "text/html": [
       "<div>\n",
       "<style scoped>\n",
       "    .dataframe tbody tr th:only-of-type {\n",
       "        vertical-align: middle;\n",
       "    }\n",
       "\n",
       "    .dataframe tbody tr th {\n",
       "        vertical-align: top;\n",
       "    }\n",
       "\n",
       "    .dataframe thead th {\n",
       "        text-align: right;\n",
       "    }\n",
       "</style>\n",
       "<table border=\"1\" class=\"dataframe\">\n",
       "  <thead>\n",
       "    <tr style=\"text-align: right;\">\n",
       "      <th></th>\n",
       "      <th>Unnamed: 0</th>\n",
       "      <th>img_path</th>\n",
       "      <th>label</th>\n",
       "      <th>state</th>\n",
       "      <th>gender</th>\n",
       "      <th>age</th>\n",
       "      <th>age_group</th>\n",
       "      <th>height</th>\n",
       "      <th>width</th>\n",
       "    </tr>\n",
       "  </thead>\n",
       "  <tbody>\n",
       "    <tr>\n",
       "      <th>0</th>\n",
       "      <td>0</td>\n",
       "      <td>./train/images/000001_female_Asian_45/incorrec...</td>\n",
       "      <td>10</td>\n",
       "      <td>incorrect</td>\n",
       "      <td>female</td>\n",
       "      <td>45</td>\n",
       "      <td>B</td>\n",
       "      <td>512</td>\n",
       "      <td>384</td>\n",
       "    </tr>\n",
       "    <tr>\n",
       "      <th>1</th>\n",
       "      <td>1</td>\n",
       "      <td>./train/images/000001_female_Asian_45/mask1.jpg</td>\n",
       "      <td>4</td>\n",
       "      <td>mask</td>\n",
       "      <td>female</td>\n",
       "      <td>45</td>\n",
       "      <td>B</td>\n",
       "      <td>512</td>\n",
       "      <td>384</td>\n",
       "    </tr>\n",
       "    <tr>\n",
       "      <th>2</th>\n",
       "      <td>2</td>\n",
       "      <td>./train/images/000001_female_Asian_45/mask2.jpg</td>\n",
       "      <td>4</td>\n",
       "      <td>mask</td>\n",
       "      <td>female</td>\n",
       "      <td>45</td>\n",
       "      <td>B</td>\n",
       "      <td>512</td>\n",
       "      <td>384</td>\n",
       "    </tr>\n",
       "    <tr>\n",
       "      <th>3</th>\n",
       "      <td>3</td>\n",
       "      <td>./train/images/000001_female_Asian_45/mask3.jpg</td>\n",
       "      <td>4</td>\n",
       "      <td>mask</td>\n",
       "      <td>female</td>\n",
       "      <td>45</td>\n",
       "      <td>B</td>\n",
       "      <td>512</td>\n",
       "      <td>384</td>\n",
       "    </tr>\n",
       "    <tr>\n",
       "      <th>4</th>\n",
       "      <td>4</td>\n",
       "      <td>./train/images/000001_female_Asian_45/mask4.jpg</td>\n",
       "      <td>4</td>\n",
       "      <td>mask</td>\n",
       "      <td>female</td>\n",
       "      <td>45</td>\n",
       "      <td>B</td>\n",
       "      <td>512</td>\n",
       "      <td>384</td>\n",
       "    </tr>\n",
       "  </tbody>\n",
       "</table>\n",
       "</div>"
      ],
      "text/plain": [
       "   Unnamed: 0                                           img_path  label  \\\n",
       "0           0  ./train/images/000001_female_Asian_45/incorrec...     10   \n",
       "1           1    ./train/images/000001_female_Asian_45/mask1.jpg      4   \n",
       "2           2    ./train/images/000001_female_Asian_45/mask2.jpg      4   \n",
       "3           3    ./train/images/000001_female_Asian_45/mask3.jpg      4   \n",
       "4           4    ./train/images/000001_female_Asian_45/mask4.jpg      4   \n",
       "\n",
       "       state  gender  age age_group  height  width  \n",
       "0  incorrect  female   45         B     512    384  \n",
       "1       mask  female   45         B     512    384  \n",
       "2       mask  female   45         B     512    384  \n",
       "3       mask  female   45         B     512    384  \n",
       "4       mask  female   45         B     512    384  "
      ]
     },
     "execution_count": 36,
     "metadata": {},
     "output_type": "execute_result"
    }
   ],
   "source": [
    "labeling[['height', 'width']] = dim_df\n",
    "labeling.head()"
   ]
  },
  {
   "cell_type": "code",
   "execution_count": 37,
   "id": "c029bbfe-443a-43da-961b-ce0720573387",
   "metadata": {},
   "outputs": [
    {
     "data": {},
     "metadata": {},
     "output_type": "display_data"
    },
    {
     "data": {
      "application/vnd.holoviews_exec.v0+json": "",
      "text/html": [
       "<div id='1130'>\n",
       "\n",
       "\n",
       "\n",
       "\n",
       "\n",
       "  <div class=\"bk-root\" id=\"99f6ba79-dbd3-445e-beb9-00944cad7d35\" data-root-id=\"1130\"></div>\n",
       "</div>\n",
       "<script type=\"application/javascript\">(function(root) {\n",
       "  function embed_document(root) {\n",
       "    var docs_json = {\"aa85b3c5-c767-49bf-bf89-b873e9e5ab69\":{\"defs\":[{\"extends\":null,\"module\":null,\"name\":\"ReactiveHTML1\",\"overrides\":[],\"properties\":[]},{\"extends\":null,\"module\":null,\"name\":\"FlexBox1\",\"overrides\":[],\"properties\":[{\"default\":\"flex-start\",\"kind\":null,\"name\":\"align_content\"},{\"default\":\"flex-start\",\"kind\":null,\"name\":\"align_items\"},{\"default\":\"row\",\"kind\":null,\"name\":\"flex_direction\"},{\"default\":\"wrap\",\"kind\":null,\"name\":\"flex_wrap\"},{\"default\":\"flex-start\",\"kind\":null,\"name\":\"justify_content\"}]},{\"extends\":null,\"module\":null,\"name\":\"TemplateActions1\",\"overrides\":[],\"properties\":[{\"default\":0,\"kind\":null,\"name\":\"open_modal\"},{\"default\":0,\"kind\":null,\"name\":\"close_modal\"}]},{\"extends\":null,\"module\":null,\"name\":\"MaterialTemplateActions1\",\"overrides\":[],\"properties\":[{\"default\":0,\"kind\":null,\"name\":\"open_modal\"},{\"default\":0,\"kind\":null,\"name\":\"close_modal\"}]}],\"roots\":{\"references\":[{\"attributes\":{\"angle\":{\"value\":0.0},\"fill_alpha\":{\"value\":0},\"fill_color\":{\"value\":\"#30a2da\"},\"hatch_alpha\":{\"value\":1.0},\"hatch_color\":{\"value\":\"#30a2da\"},\"hatch_scale\":{\"value\":12.0},\"hatch_weight\":{\"value\":1.0},\"line_alpha\":{\"value\":1},\"line_cap\":{\"value\":\"butt\"},\"line_color\":{\"value\":\"#30a2da\"},\"line_dash\":{\"value\":[]},\"line_dash_offset\":{\"value\":0},\"line_join\":{\"value\":\"bevel\"},\"line_width\":{\"value\":1},\"marker\":{\"value\":\"circle\"},\"size\":{\"value\":137.4772708486752},\"x\":{\"field\":\"height\"},\"y\":{\"field\":\"width\"}},\"id\":\"1173\",\"type\":\"Scatter\"},{\"attributes\":{\"children\":[{\"id\":\"1131\"},{\"id\":\"1135\"},{\"id\":\"1206\"}],\"margin\":[0,0,0,0],\"name\":\"Row01905\",\"tags\":[\"embedded\"]},\"id\":\"1130\",\"type\":\"Row\"},{\"attributes\":{\"below\":[{\"id\":\"1144\"}],\"center\":[{\"id\":\"1147\"},{\"id\":\"1151\"}],\"height\":500,\"left\":[{\"id\":\"1148\"}],\"margin\":[5,5,5,5],\"min_border_bottom\":10,\"min_border_left\":10,\"min_border_right\":10,\"min_border_top\":10,\"renderers\":[{\"id\":\"1171\"}],\"sizing_mode\":\"fixed\",\"title\":{\"id\":\"1136\"},\"toolbar\":{\"id\":\"1158\"},\"x_range\":{\"id\":\"1132\"},\"x_scale\":{\"id\":\"1140\"},\"y_range\":{\"id\":\"1133\"},\"y_scale\":{\"id\":\"1142\"}},\"id\":\"1135\",\"subtype\":\"Figure\",\"type\":\"Plot\"},{\"attributes\":{},\"id\":\"1177\",\"type\":\"BasicTickFormatter\"},{\"attributes\":{\"desired_num_ticks\":2,\"mantissas\":[1,2,5]},\"id\":\"1145\",\"type\":\"BasicTicker\"},{\"attributes\":{\"source\":{\"id\":\"1165\"}},\"id\":\"1172\",\"type\":\"CDSView\"},{\"attributes\":{},\"id\":\"1154\",\"type\":\"WheelZoomTool\"},{\"attributes\":{},\"id\":\"1166\",\"type\":\"Selection\"},{\"attributes\":{\"data\":{\"count\":[18900],\"height\":[512],\"width\":[384]},\"selected\":{\"id\":\"1166\"},\"selection_policy\":{\"id\":\"1193\"}},\"id\":\"1165\",\"type\":\"ColumnDataSource\"},{\"attributes\":{},\"id\":\"1181\",\"type\":\"BasicTickFormatter\"},{\"attributes\":{},\"id\":\"1178\",\"type\":\"AllLabels\"},{\"attributes\":{\"coordinates\":null,\"data_source\":{\"id\":\"1165\"},\"glyph\":{\"id\":\"1168\"},\"group\":null,\"hover_glyph\":null,\"muted_glyph\":{\"id\":\"1170\"},\"nonselection_glyph\":{\"id\":\"1169\"},\"selection_glyph\":{\"id\":\"1173\"},\"view\":{\"id\":\"1172\"}},\"id\":\"1171\",\"type\":\"GlyphRenderer\"},{\"attributes\":{\"overlay\":{\"id\":\"1157\"}},\"id\":\"1155\",\"type\":\"BoxZoomTool\"},{\"attributes\":{\"callback\":null,\"renderers\":[{\"id\":\"1171\"}],\"tags\":[\"hv_created\"],\"tooltips\":[[\"height\",\"@{height}\"],[\"width\",\"@{width}\"],[\"count\",\"@{count}\"]]},\"id\":\"1134\",\"type\":\"HoverTool\"},{\"attributes\":{},\"id\":\"1153\",\"type\":\"PanTool\"},{\"attributes\":{\"coordinates\":null,\"group\":null,\"text_color\":\"black\",\"text_font_size\":\"12pt\"},\"id\":\"1136\",\"type\":\"Title\"},{\"attributes\":{\"fill_alpha\":{\"value\":0.2},\"fill_color\":{\"value\":\"#30a2da\"},\"hatch_alpha\":{\"value\":0.2},\"hatch_color\":{\"value\":\"#30a2da\"},\"line_alpha\":{\"value\":0.2},\"line_color\":{\"value\":\"#30a2da\"},\"size\":{\"value\":137.4772708486752},\"x\":{\"field\":\"height\"},\"y\":{\"field\":\"width\"}},\"id\":\"1170\",\"type\":\"Scatter\"},{\"attributes\":{},\"id\":\"1193\",\"type\":\"UnionRenderers\"},{\"attributes\":{\"axis\":{\"id\":\"1148\"},\"coordinates\":null,\"dimension\":1,\"group\":null,\"ticker\":{\"id\":\"1149\"}},\"id\":\"1151\",\"type\":\"Grid\"},{\"attributes\":{\"desired_num_ticks\":2,\"mantissas\":[1,2,5]},\"id\":\"1149\",\"type\":\"BasicTicker\"},{\"attributes\":{\"axis_label\":\"height\",\"coordinates\":null,\"formatter\":{\"id\":\"1177\"},\"group\":null,\"major_label_policy\":{\"id\":\"1178\"},\"ticker\":{\"id\":\"1145\"}},\"id\":\"1144\",\"type\":\"LinearAxis\"},{\"attributes\":{},\"id\":\"1182\",\"type\":\"AllLabels\"},{\"attributes\":{\"axis\":{\"id\":\"1144\"},\"coordinates\":null,\"group\":null,\"ticker\":{\"id\":\"1145\"}},\"id\":\"1147\",\"type\":\"Grid\"},{\"attributes\":{\"bottom_units\":\"screen\",\"coordinates\":null,\"fill_alpha\":0.5,\"fill_color\":\"lightgrey\",\"group\":null,\"left_units\":\"screen\",\"level\":\"overlay\",\"line_alpha\":1.0,\"line_color\":\"black\",\"line_dash\":[4,4],\"line_width\":2,\"right_units\":\"screen\",\"syncable\":false,\"top_units\":\"screen\"},\"id\":\"1157\",\"type\":\"BoxAnnotation\"},{\"attributes\":{},\"id\":\"1156\",\"type\":\"ResetTool\"},{\"attributes\":{\"fill_alpha\":{\"value\":0},\"fill_color\":{\"value\":\"#30a2da\"},\"hatch_alpha\":{\"value\":0.1},\"hatch_color\":{\"value\":\"#30a2da\"},\"line_alpha\":{\"value\":1},\"line_color\":{\"value\":\"#30a2da\"},\"size\":{\"value\":137.4772708486752},\"x\":{\"field\":\"height\"},\"y\":{\"field\":\"width\"}},\"id\":\"1169\",\"type\":\"Scatter\"},{\"attributes\":{},\"id\":\"1142\",\"type\":\"LinearScale\"},{\"attributes\":{},\"id\":\"1152\",\"type\":\"SaveTool\"},{\"attributes\":{\"end\":1200,\"reset_end\":1200,\"reset_start\":0,\"tags\":[[[\"width\",\"width\",null]]]},\"id\":\"1133\",\"type\":\"Range1d\"},{\"attributes\":{\"fill_alpha\":{\"value\":0},\"fill_color\":{\"value\":\"#30a2da\"},\"hatch_color\":{\"value\":\"#30a2da\"},\"line_color\":{\"value\":\"#30a2da\"},\"size\":{\"value\":137.4772708486752},\"x\":{\"field\":\"height\"},\"y\":{\"field\":\"width\"}},\"id\":\"1168\",\"type\":\"Scatter\"},{\"attributes\":{},\"id\":\"1140\",\"type\":\"LinearScale\"},{\"attributes\":{\"margin\":[5,5,5,5],\"name\":\"HSpacer01910\",\"sizing_mode\":\"stretch_width\"},\"id\":\"1206\",\"type\":\"Spacer\"},{\"attributes\":{\"end\":1200,\"reset_end\":1200,\"reset_start\":0,\"tags\":[[[\"height\",\"height\",null]]]},\"id\":\"1132\",\"type\":\"Range1d\"},{\"attributes\":{\"axis_label\":\"width\",\"coordinates\":null,\"formatter\":{\"id\":\"1181\"},\"group\":null,\"major_label_policy\":{\"id\":\"1182\"},\"ticker\":{\"id\":\"1149\"}},\"id\":\"1148\",\"type\":\"LinearAxis\"},{\"attributes\":{\"margin\":[5,5,5,5],\"name\":\"HSpacer01909\",\"sizing_mode\":\"stretch_width\"},\"id\":\"1131\",\"type\":\"Spacer\"},{\"attributes\":{\"tools\":[{\"id\":\"1134\"},{\"id\":\"1152\"},{\"id\":\"1153\"},{\"id\":\"1154\"},{\"id\":\"1155\"},{\"id\":\"1156\"}]},\"id\":\"1158\",\"type\":\"Toolbar\"}],\"root_ids\":[\"1130\"]},\"title\":\"Bokeh Application\",\"version\":\"2.4.2\"}};\n",
       "    var render_items = [{\"docid\":\"aa85b3c5-c767-49bf-bf89-b873e9e5ab69\",\"root_ids\":[\"1130\"],\"roots\":{\"1130\":\"99f6ba79-dbd3-445e-beb9-00944cad7d35\"}}];\n",
       "    root.Bokeh.embed.embed_items_notebook(docs_json, render_items);\n",
       "  }\n",
       "  if (root.Bokeh !== undefined && root.Bokeh.Panel !== undefined) {\n",
       "    embed_document(root);\n",
       "  } else {\n",
       "    var attempts = 0;\n",
       "    var timer = setInterval(function(root) {\n",
       "      if (root.Bokeh !== undefined && root.Bokeh.Panel !== undefined) {\n",
       "        clearInterval(timer);\n",
       "        embed_document(root);\n",
       "      } else if (document.readyState == \"complete\") {\n",
       "        attempts++;\n",
       "        if (attempts > 200) {\n",
       "          clearInterval(timer);\n",
       "          console.log(\"Bokeh: ERROR: Unable to run BokehJS code because BokehJS library is missing\");\n",
       "        }\n",
       "      }\n",
       "    }, 25, root)\n",
       "  }\n",
       "})(window);</script>"
      ],
      "text/plain": [
       ":Scatter   [height]   (width,count)"
      ]
     },
     "execution_count": 37,
     "metadata": {
      "application/vnd.holoviews_exec.v0+json": {
       "id": "1130"
      }
     },
     "output_type": "execute_result"
    }
   ],
   "source": [
    "import hvplot.pandas\n",
    "\n",
    "sizes = dim_df.groupby(['height', 'width']).size().reset_index().rename(columns={0:'count'})\n",
    "sizes.hvplot.scatter(x='height', y='width', size='count', xlim=(0,1200), ylim=(0,1200), grid=True, xticks=2, \n",
    "        yticks=2, height=500, width=600).options(scaling_factor=0.1, line_alpha=1, fill_alpha=0)\n"
   ]
  },
  {
   "cell_type": "markdown",
   "id": "4fbe3006-d9a4-48bc-827d-2f3d57a976c2",
   "metadata": {},
   "source": [
    "2 - 2) RGB 채널별 통계값"
   ]
  },
  {
   "cell_type": "code",
   "execution_count": null,
   "id": "92d45d81-1ffc-4439-a08b-c795045e7ea7",
   "metadata": {},
   "outputs": [],
   "source": [
    "means, stds = [], []\n",
    "for i in range(len(labeling)):\n",
    "    file = labeling['img_path'].iloc[i]\n",
    "    file = os.path.join('../input/data/',file[2:])\n",
    "    image = cv2.imread(file)\n",
    "    dims = np.shape(image)\n",
    "    pixel_matrix = np.reshape(image, (-1, dims[-1]))\n",
    "    mean = pixel_matrix.mean(axis = 0)\n",
    "    std = pixel_matrix.std(axis = 0)\n",
    "    means.append(mean)\n",
    "    stds.append(std)\n",
    "rgb_mean = pd.DataFrame(means, columns = ['R', 'G', 'B'])\n",
    "rgb_std = pd.DataFrame(stds, columns = ['R','G','B'])"
   ]
  },
  {
   "cell_type": "code",
   "execution_count": null,
   "id": "9db3e44d-a7b0-45b9-8816-ddcd5db2386f",
   "metadata": {},
   "outputs": [
    {
     "data": {
      "text/plain": [
       "<matplotlib.axes._subplots.AxesSubplot at 0x7fa7c29b1970>"
      ]
     },
     "execution_count": 39,
     "metadata": {},
     "output_type": "execute_result"
    }
   ],
   "source": [
    "fig, axes = plt.subplots(1,3,figsize = (18,5))\n",
    "\n",
    "sns.countplot(x = 'R', data = rgb_mean, ax = axes[0])\n",
    "sns.countplot(x = 'G', data = rgb_mean, ax = axes[1])\n",
    "sns.countplot(x = 'B', data = rgb_mean, ax = axes[2])"
   ]
  },
  {
   "cell_type": "code",
   "execution_count": null,
   "id": "a5d7327b-9974-484b-935b-c887205e221e",
   "metadata": {},
   "outputs": [],
   "source": []
  }
 ],
 "metadata": {
  "kernelspec": {
   "display_name": "Python 3 (ipykernel)",
   "language": "python",
   "name": "python3"
  },
  "language_info": {
   "codemirror_mode": {
    "name": "ipython",
    "version": 3
   },
   "file_extension": ".py",
   "mimetype": "text/x-python",
   "name": "python",
   "nbconvert_exporter": "python",
   "pygments_lexer": "ipython3",
   "version": "3.8.5"
  }
 },
 "nbformat": 4,
 "nbformat_minor": 5
}
